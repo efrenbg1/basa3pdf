{
 "metadata": {
  "language_info": {
   "codemirror_mode": {
    "name": "ipython",
    "version": 3
   },
   "file_extension": ".py",
   "mimetype": "text/x-python",
   "name": "python",
   "nbconvert_exporter": "python",
   "pygments_lexer": "ipython3",
   "version": "3.8.5-final"
  },
  "orig_nbformat": 2,
  "kernelspec": {
   "name": "Python 3.8.5 64-bit",
   "display_name": "Python 3.8.5 64-bit",
   "metadata": {
    "interpreter": {
     "hash": "01f5678bcaedd7e6e34352630199a1dab6303c7daf76ed83ff9078b19f65d229"
    }
   }
  }
 },
 "nbformat": 4,
 "nbformat_minor": 2,
 "cells": [
  {
   "cell_type": "code",
   "execution_count": 1,
   "metadata": {},
   "outputs": [],
   "source": [
    "import tempfile, shutil, os, time\n",
    "from docx2pdf import convert\n"
   ]
  },
  {
   "cell_type": "code",
   "execution_count": 25,
   "metadata": {},
   "outputs": [],
   "source": []
  },
  {
   "cell_type": "code",
   "execution_count": 16,
   "metadata": {},
   "outputs": [],
   "source": [
    "file = 'C:\\\\Users\\\\efrenbg1\\\\Desktop\\\\docx2pdf.basa\\\\test.basa'"
   ]
  },
  {
   "cell_type": "code",
   "execution_count": 18,
   "metadata": {},
   "outputs": [],
   "source": [
    "if not file.endswith('.basa'):\n",
    "    print(\"Archivo no encontrado\")\n",
    "directory = file[:file.rindex('.basa')]\n",
    "docx = directory + \".docx\"\n",
    "pdf = directory + \".pdf\""
   ]
  },
  {
   "cell_type": "code",
   "execution_count": 19,
   "metadata": {
    "tags": []
   },
   "outputs": [
    {
     "output_type": "stream",
     "name": "stderr",
     "text": "100%|██████████| 1/1 [00:02<00:00,  2.44s/it]\n"
    }
   ],
   "source": [
    "shutil.copy2(file, docx)\n",
    "convert(docx, output_path=pdf)\n",
    "os.remove(docx)\n",
    "os.startfile(pdf, 'open')\n",
    "\n"
   ]
  },
  {
   "cell_type": "code",
   "execution_count": null,
   "metadata": {},
   "outputs": [],
   "source": []
  }
 ]
}